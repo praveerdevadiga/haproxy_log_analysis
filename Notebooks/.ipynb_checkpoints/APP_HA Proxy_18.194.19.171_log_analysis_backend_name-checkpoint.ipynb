{
 "cells": [
  {
   "cell_type": "code",
   "execution_count": 1,
   "metadata": {
    "collapsed": true
   },
   "outputs": [],
   "source": [
    "import numpy as np\n",
    "import pandas as pd\n",
    "import sys, os\n",
    "import re \n",
    "import csv\n",
    "import shlex\n",
    "import json\n",
    "import datetime\n",
    "import glob, os\n",
    "\n",
    "pattern_json = re.compile(r'{.*}')\n",
    "pattern_select_words = re.compile(r'[^:,{}]+')\n",
    "pattern_method = re.compile(r'(^[A-Z]+\\b)')\n",
    "pattern_url = re.compile(r'([/bh].*)\\s')\n",
    "pattern_protocol = re.compile(r'(\\s[H].*)')"
   ]
  },
  {
   "cell_type": "code",
   "execution_count": 2,
   "metadata": {},
   "outputs": [
    {
     "name": "stdout",
     "output_type": "stream",
     "text": [
      "Enter the month : 12\n"
     ]
    }
   ],
   "source": [
    "month = input(\"Enter the month : \")"
   ]
  },
  {
   "cell_type": "code",
   "execution_count": 3,
   "metadata": {},
   "outputs": [
    {
     "name": "stdout",
     "output_type": "stream",
     "text": [
      "Enter the date : 27\n"
     ]
    }
   ],
   "source": [
    "day = input(\"Enter the date : \")"
   ]
  },
  {
   "cell_type": "code",
   "execution_count": 4,
   "metadata": {
    "collapsed": true
   },
   "outputs": [],
   "source": [
    "date = '2018-'+str(month)+'-'+str(day)\n",
    "\n",
    "content = []\n",
    "\n",
    "os.chdir('/home/tech/haproxy_log_analysis/APP_18.194.19.171/logs')\n",
    "\n",
    "for logfiles in glob.glob('haproxy.*'):\n",
    "    with open(logfiles) as file:\n",
    "        for line in file:\n",
    "            for match in re.findall(pattern_json, line):\n",
    "                string_json = match\n",
    "            string_json = re.sub(pattern_select_words, r'\"\\g<0>\"', string_json)\n",
    "            try:\n",
    "                json_data = json.loads(string_json)\n",
    "            except ValueError:\n",
    "                continue\n",
    "            data = []\n",
    "            timestamp = int(json_data.get('timestamp'))\n",
    "            day = datetime.datetime.fromtimestamp(timestamp).strftime('%Y-%m-%d')\n",
    "\n",
    "            if day == date:\n",
    "                data.append(day)\n",
    "                data.append(datetime.datetime.fromtimestamp(timestamp).strftime('%H:%M:%S'))\n",
    "\n",
    "                http_request = str(json_data.get('http_request',None))\n",
    "                for url in re.findall(pattern_url, http_request):\n",
    "                    data.append(url)\n",
    "                for method in re.findall(pattern_method, http_request):\n",
    "                    data.append(method)\n",
    "                for protocol in re.findall(pattern_protocol, http_request):\n",
    "                    data.append(protocol)\n",
    "                \n",
    "                data.append(json_data.get('backend_name'))\n",
    "                data.append(json_data.get('upstream_addr'))\n",
    "                data.append(json_data.get('remote_addr'))\n",
    "                data.append(int(json_data.get('http_status')))\n",
    "                data.append(int(json_data.get('session_duration')))\n",
    "                data.append(int(json_data.get('upstream_connect_time')))\n",
    "                data.append(int(json_data.get('upstream_response_time')))\n",
    "            \n",
    "                content.append(data)"
   ]
  },
  {
   "cell_type": "markdown",
   "metadata": {},
   "source": [
    "# Conversion of milisecond to hour"
   ]
  },
  {
   "cell_type": "code",
   "execution_count": 5,
   "metadata": {
    "collapsed": true
   },
   "outputs": [],
   "source": [
    "columns = ['day', 'time', 'url', 'method', 'protocol', 'backend_name', 'upstream_addr',\n",
    "           'remote_addr', 'http_status', 'session_duration',\n",
    "           'upstream_connect_time', 'upstream_response_time']\n",
    "\n",
    "df = pd.DataFrame(content, columns=columns)\n",
    "df['UPST_min']=(df.upstream_response_time)/(1000*60)\n",
    "del df['upstream_response_time']\n",
    "df['upstream_response_time'] = pd.to_timedelta((60*df['UPST_min']), unit='s')\n",
    "del df['UPST_min']\n",
    "#df.to_csv('/home/tech/haproxy_log_analysis/APP_18.194.19.171/APP_merged_log_'+date+'.csv', index = None)"
   ]
  },
  {
   "cell_type": "code",
   "execution_count": null,
   "metadata": {
    "collapsed": true
   },
   "outputs": [],
   "source": []
  },
  {
   "cell_type": "code",
   "execution_count": null,
   "metadata": {
    "collapsed": true
   },
   "outputs": [],
   "source": []
  },
  {
   "cell_type": "code",
   "execution_count": null,
   "metadata": {
    "collapsed": true
   },
   "outputs": [],
   "source": []
  },
  {
   "cell_type": "code",
   "execution_count": 6,
   "metadata": {
    "collapsed": true
   },
   "outputs": [],
   "source": [
    "new = df.groupby(['backend_name','upstream_addr','method'])['upstream_response_time'].agg(['sum','count'])\n",
    "n=new.reset_index()\n",
    "n.rename(columns={'count':'hits','sum':'UPST_RT_duration'},inplace=True)\n",
    "a=n.reset_index()\n",
    "del a['index']\n",
    "a1 = a.sort_values(by=['hits'], ascending=False)\n",
    "a1 = a1.head(100)\n",
    "a1['UPST_RT_avg']=(a1.UPST_RT_duration)/(a1.hits)\n",
    "a1 = a1.reset_index()\n",
    "del a1['index']\n",
    "\n",
    "l = []\n",
    "l = a1.backend_name\n",
    "sd = []\n",
    "p = []\n",
    "for i in l:\n",
    "    a = df[df.backend_name == i]\n",
    "    x = np.std(a['upstream_response_time'])\n",
    "    sd.append(x)\n",
    "    p1 = np.percentile(a['upstream_response_time'],90)\n",
    "    p.append(p1)\n",
    "sd_array = pd.Series(sd)\n",
    "p_array = pd.Series(p)\n",
    "a1['SD'] = sd_array.values\n",
    "a1['90_percentile'] = p_array.values\n",
    "a1.to_csv('/home/tech/haproxy_log_analysis/APP_18.194.19.171/APP_haproxy_log_report_backend_name_hits_'+date+'.csv', index = None)"
   ]
  },
  {
   "cell_type": "code",
   "execution_count": null,
   "metadata": {
    "collapsed": true
   },
   "outputs": [],
   "source": []
  },
  {
   "cell_type": "code",
   "execution_count": null,
   "metadata": {
    "collapsed": true
   },
   "outputs": [],
   "source": []
  }
 ],
 "metadata": {
  "kernelspec": {
   "display_name": "Python [default]",
   "language": "python",
   "name": "python3"
  },
  "language_info": {
   "codemirror_mode": {
    "name": "ipython",
    "version": 3
   },
   "file_extension": ".py",
   "mimetype": "text/x-python",
   "name": "python",
   "nbconvert_exporter": "python",
   "pygments_lexer": "ipython3",
   "version": "3.5.3"
  }
 },
 "nbformat": 4,
 "nbformat_minor": 2
}
