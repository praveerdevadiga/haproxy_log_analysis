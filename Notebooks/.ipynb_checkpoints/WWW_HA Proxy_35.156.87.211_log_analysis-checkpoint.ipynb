{
 "cells": [
  {
   "cell_type": "code",
   "execution_count": 1,
   "metadata": {
    "collapsed": true
   },
   "outputs": [],
   "source": [
    "import numpy as np\n",
    "import pandas as pd\n",
    "import sys, os\n",
    "import re \n",
    "import csv\n",
    "import shlex\n",
    "import json\n",
    "import datetime\n",
    "import glob, os\n",
    "\n",
    "pattern_json = re.compile(r'{.*}')\n",
    "pattern_select_words = re.compile(r'[^:,{}]+')\n",
    "pattern_method = re.compile(r'(^[A-Z]+\\b)')\n",
    "pattern_url = re.compile(r'([/bh].*)\\s')\n",
    "pattern_protocol = re.compile(r'(\\s[H].*)')"
   ]
  },
  {
   "cell_type": "code",
   "execution_count": 2,
   "metadata": {},
   "outputs": [
    {
     "name": "stdout",
     "output_type": "stream",
     "text": [
      "Enter the month : 11\n"
     ]
    }
   ],
   "source": [
    "month = input(\"Enter the month : \")"
   ]
  },
  {
   "cell_type": "code",
   "execution_count": 3,
   "metadata": {},
   "outputs": [
    {
     "name": "stdout",
     "output_type": "stream",
     "text": [
      "Enter the date : 15\n"
     ]
    }
   ],
   "source": [
    "day = input(\"Enter the date : \")"
   ]
  },
  {
   "cell_type": "code",
   "execution_count": 4,
   "metadata": {
    "collapsed": true
   },
   "outputs": [],
   "source": [
    "date = '2017-'+str(month)+'-'+str(day)\n",
    "\n",
    "content = []\n",
    "\n",
    "os.chdir('/home/tech/haproxy_log_analysis/WWW_35.156.87.211/logs')\n",
    "\n",
    "for logfiles in glob.glob('haproxy.*'):\n",
    "    with open(logfiles) as file:\n",
    "        for line in file:\n",
    "            for match in re.findall(pattern_json, line):\n",
    "                string_json = match\n",
    "            string_json = re.sub(pattern_select_words, r'\"\\g<0>\"', string_json)\n",
    "            try:\n",
    "                json_data = json.loads(string_json)\n",
    "            except ValueError:\n",
    "                continue\n",
    "            data = []\n",
    "            timestamp = int(json_data.get('timestamp'))\n",
    "            day = datetime.datetime.fromtimestamp(timestamp).strftime('%Y-%m-%d')\n",
    "\n",
    "            if day == date:\n",
    "                data.append(day)\n",
    "                data.append(datetime.datetime.fromtimestamp(timestamp).strftime('%H:%M:%S'))\n",
    "\n",
    "                http_request = str(json_data.get('http_request',None))\n",
    "                for url in re.findall(pattern_url, http_request):\n",
    "                    data.append(url)\n",
    "                for method in re.findall(pattern_method, http_request):\n",
    "                    data.append(method)\n",
    "                for protocol in re.findall(pattern_protocol, http_request):\n",
    "                    data.append(protocol)\n",
    "\n",
    "                data.append(json_data.get('upstream_addr'))\n",
    "                data.append(json_data.get('remote_addr'))\n",
    "                data.append(int(json_data.get('http_status')))\n",
    "                data.append(int(json_data.get('session_duration')))\n",
    "                data.append(int(json_data.get('upstream_connect_time')))\n",
    "                data.append(int(json_data.get('upstream_response_time')))\n",
    "            \n",
    "                content.append(data)"
   ]
  },
  {
   "cell_type": "markdown",
   "metadata": {},
   "source": [
    "# without converting to hour"
   ]
  },
  {
   "cell_type": "code",
   "execution_count": 60,
   "metadata": {
    "collapsed": true
   },
   "outputs": [],
   "source": [
    "columns = ['day', 'time', 'url', 'method', 'protocol', 'upstream_addr',\n",
    "           'remote_addr', 'http_status', 'session_duration',\n",
    "           'upstream_connect_time', 'upstream_response_time']\n",
    "\n",
    "df = pd.DataFrame(content, columns=columns)\n",
    "#df = df1.drop_duplicates()\n",
    "#df = df.reset_index()\n",
    "df.to_csv('/home/tech/haproxy_log_analysis/WWW_35.156.87.211/WWW_merged_log_'+date+'.csv', index = None)\n",
    "\n",
    "new = df.groupby(['url','upstream_addr','method'])['upstream_response_time'].agg(['sum','count'])\n",
    "n=new.reset_index()\n",
    "n1=n.groupby(['url','upstream_addr','method']).sum()\n",
    "n1.rename(columns={'count':'hits','sum':'UPST_RT_duration'},inplace=True)\n",
    "\n",
    "a=n1.reset_index()\n",
    "a['UPST_RT_min']=(a.UPST_RT_duration)/(1000*60)\n",
    "a['UPST_RT_TOTAL'] = pd.to_timedelta((60*a['UPST_RT_min']), unit='s')\n",
    "#a1 = a.sort_values(by=['UPST_RT_TOTAL'], ascending=False)\n",
    "a1 = a.sort_values(by=['hits'], ascending=False)\n",
    "a1 = a1.head(100)\n",
    "del a1['UPST_RT_duration']\n",
    "del a1['UPST_RT_min']\n",
    "a1['UPST_RT_avg']=(a1.UPST_RT_TOTAL)/(a1.hits)\n",
    "a1 = a1.reset_index()\n",
    "del a1['index']\n",
    "\n",
    "l = []\n",
    "l = a1.url\n",
    "sd = []\n",
    "p = []\n",
    "for i in l:\n",
    "    a = df[df.url == i]\n",
    "    x = np.std(a['upstream_response_time'])\n",
    "    sd.append(x)\n",
    "    p1 = np.percentile(a['upstream_response_time'],90)\n",
    "    p.append(p1)\n",
    "sd_array = pd.Series(sd)\n",
    "p_array = pd.Series(p)\n",
    "a1['SD'] = sd_array.values\n",
    "a1['90_percentile'] = p_array.values\n",
    "a1.to_csv('/home/tech/haproxy_log_analysis/WWW_35.156.87.211/WWW_haproxy_log_report_urlwise_hits_'+date+'.csv', index = None)"
   ]
  },
  {
   "cell_type": "markdown",
   "metadata": {},
   "source": [
    "# Conversion of milisecond to hour"
   ]
  },
  {
   "cell_type": "code",
   "execution_count": 5,
   "metadata": {
    "collapsed": true
   },
   "outputs": [],
   "source": [
    "columns = ['day', 'time', 'url', 'method', 'protocol', 'upstream_addr',\n",
    "           'remote_addr', 'http_status', 'session_duration',\n",
    "           'upstream_connect_time', 'upstream_response_time']\n",
    "\n",
    "df = pd.DataFrame(content, columns=columns)\n",
    "df['UPST_min']=(df.upstream_response_time)/(1000*60)\n",
    "del df['upstream_response_time']\n",
    "df['upstream_response_time'] = pd.to_timedelta((60*df['UPST_min']), unit='s')\n",
    "del df['UPST_min']\n",
    "df.to_csv('/home/tech/haproxy_log_analysis/WWW_35.156.87.211/WWW_merged_log_'+date+'.csv', index = None)\n",
    "#df.to_csv('/home/tech/haproxy_log_analysis/WWW_35.156.87.211/WWW_merged_log_extra'+date+'.csv', index = None)\n",
    "\n",
    "new = df.groupby(['url','upstream_addr','method'])['upstream_response_time'].agg(['sum','count'])\n",
    "n=new.reset_index()\n",
    "n.rename(columns={'count':'hits','sum':'UPST_RT_duration'},inplace=True)\n",
    "\n",
    "a=n.reset_index()\n",
    "del a['index']\n",
    "a1 = a.sort_values(by=['hits'], ascending=False)\n",
    "a1 = a1.head(100)\n",
    "a1['UPST_RT_avg']=(a1.UPST_RT_duration)/(a1.hits)\n",
    "a1 = a1.reset_index()\n",
    "del a1['index']\n",
    "\n",
    "l = []\n",
    "l = a1.url\n",
    "sd = []\n",
    "p = []\n",
    "for i in l:\n",
    "    a = df[df.url == i]\n",
    "    x = np.std(a['upstream_response_time'])\n",
    "    sd.append(x)\n",
    "    p1 = np.percentile(a['upstream_response_time'],90)\n",
    "    p.append(p1)\n",
    "sd_array = pd.Series(sd)\n",
    "p_array = pd.Series(p)\n",
    "a1['SD'] = sd_array.values\n",
    "a1['90_percentile'] = p_array.values\n",
    "a1.to_csv('/home/tech/haproxy_log_analysis/WWW_35.156.87.211/WWW_haproxy_log_report_urlwise_hits_'+date+'.csv', index = None)"
   ]
  },
  {
   "cell_type": "code",
   "execution_count": null,
   "metadata": {
    "collapsed": true
   },
   "outputs": [],
   "source": []
  },
  {
   "cell_type": "code",
   "execution_count": 6,
   "metadata": {
    "collapsed": true
   },
   "outputs": [],
   "source": [
    "columns = ['day', 'time', 'url', 'method', 'protocol', 'upstream_addr',\n",
    "           'remote_addr', 'http_status', 'session_duration',\n",
    "           'upstream_connect_time', 'upstream_response_time']\n",
    "\n",
    "\n",
    "df = pd.DataFrame(content, columns=columns)\n",
    "df['UPST_min']=(df.upstream_response_time)/(1000*60)\n",
    "del df['upstream_response_time']\n",
    "df['upstream_response_time'] = pd.to_timedelta((60*df['UPST_min']), unit='s')\n",
    "del df['UPST_min']\n",
    "#df.to_csv('/home/tech/haproxy_log_analysis/WWW_35.156.87.211/WWW_merged_log_'+date+'.csv', index = None)\n",
    "#df.to_csv('/home/tech/haproxy_log_analysis/WWW_35.156.87.211/WWW_merged_log_extra'+date+'.csv', index = None)\n",
    "\n"
   ]
  },
  {
   "cell_type": "code",
   "execution_count": 7,
   "metadata": {},
   "outputs": [
    {
     "ename": "AttributeError",
     "evalue": "'DataFrame' object has no attribute 're695645set_index'",
     "output_type": "error",
     "traceback": [
      "\u001b[0;31m---------------------------------------------------------------------------\u001b[0m",
      "\u001b[0;31mAttributeError\u001b[0m                            Traceback (most recent call last)",
      "\u001b[0;32m<ipython-input-7-7e1605a3f4b7>\u001b[0m in \u001b[0;36m<module>\u001b[0;34m()\u001b[0m\n\u001b[1;32m      7\u001b[0m \u001b[0ma1\u001b[0m \u001b[0;34m=\u001b[0m \u001b[0ma1\u001b[0m\u001b[0;34m.\u001b[0m\u001b[0mhead\u001b[0m\u001b[0;34m(\u001b[0m\u001b[0;36m100\u001b[0m\u001b[0;34m)\u001b[0m\u001b[0;34m\u001b[0m\u001b[0m\n\u001b[1;32m      8\u001b[0m \u001b[0ma1\u001b[0m\u001b[0;34m[\u001b[0m\u001b[0;34m'UPST_RT_avg'\u001b[0m\u001b[0;34m]\u001b[0m\u001b[0;34m=\u001b[0m\u001b[0;34m(\u001b[0m\u001b[0ma1\u001b[0m\u001b[0;34m.\u001b[0m\u001b[0mUPST_RT_duration\u001b[0m\u001b[0;34m)\u001b[0m\u001b[0;34m/\u001b[0m\u001b[0;34m(\u001b[0m\u001b[0ma1\u001b[0m\u001b[0;34m.\u001b[0m\u001b[0mhits\u001b[0m\u001b[0;34m)\u001b[0m\u001b[0;34m\u001b[0m\u001b[0m\n\u001b[0;32m----> 9\u001b[0;31m \u001b[0ma1\u001b[0m \u001b[0;34m=\u001b[0m \u001b[0ma1\u001b[0m\u001b[0;34m.\u001b[0m\u001b[0mre695645set_index\u001b[0m\u001b[0;34m(\u001b[0m\u001b[0;34m)\u001b[0m\u001b[0;34m\u001b[0m\u001b[0m\n\u001b[0m\u001b[1;32m     10\u001b[0m \u001b[0;32mdel\u001b[0m \u001b[0ma1\u001b[0m\u001b[0;34m[\u001b[0m\u001b[0;34m'index'\u001b[0m\u001b[0;34m]\u001b[0m\u001b[0;34m\u001b[0m\u001b[0m\n\u001b[1;32m     11\u001b[0m \u001b[0;34m\u001b[0m\u001b[0m\n",
      "\u001b[0;32m/home/tech/anaconda3/lib/python3.5/site-packages/pandas/core/generic.py\u001b[0m in \u001b[0;36m__getattr__\u001b[0;34m(self, name)\u001b[0m\n\u001b[1;32m   2968\u001b[0m             \u001b[0;32mif\u001b[0m \u001b[0mname\u001b[0m \u001b[0;32min\u001b[0m \u001b[0mself\u001b[0m\u001b[0;34m.\u001b[0m\u001b[0m_info_axis\u001b[0m\u001b[0;34m:\u001b[0m\u001b[0;34m\u001b[0m\u001b[0m\n\u001b[1;32m   2969\u001b[0m                 \u001b[0;32mreturn\u001b[0m \u001b[0mself\u001b[0m\u001b[0;34m[\u001b[0m\u001b[0mname\u001b[0m\u001b[0;34m]\u001b[0m\u001b[0;34m\u001b[0m\u001b[0m\n\u001b[0;32m-> 2970\u001b[0;31m             \u001b[0;32mreturn\u001b[0m \u001b[0mobject\u001b[0m\u001b[0;34m.\u001b[0m\u001b[0m__getattribute__\u001b[0m\u001b[0;34m(\u001b[0m\u001b[0mself\u001b[0m\u001b[0;34m,\u001b[0m \u001b[0mname\u001b[0m\u001b[0;34m)\u001b[0m\u001b[0;34m\u001b[0m\u001b[0m\n\u001b[0m\u001b[1;32m   2971\u001b[0m \u001b[0;34m\u001b[0m\u001b[0m\n\u001b[1;32m   2972\u001b[0m     \u001b[0;32mdef\u001b[0m \u001b[0m__setattr__\u001b[0m\u001b[0;34m(\u001b[0m\u001b[0mself\u001b[0m\u001b[0;34m,\u001b[0m \u001b[0mname\u001b[0m\u001b[0;34m,\u001b[0m \u001b[0mvalue\u001b[0m\u001b[0;34m)\u001b[0m\u001b[0;34m:\u001b[0m\u001b[0;34m\u001b[0m\u001b[0m\n",
      "\u001b[0;31mAttributeError\u001b[0m: 'DataFrame' object has no attribute 're695645set_index'"
     ]
    }
   ],
   "source": [
    "new = df.groupby(['url'])['upstream_response_time'].agg(['sum','count'])\n",
    "n=new.reset_index()\n",
    "n.rename(columns={'count':'hits','sum':'UPST_RT_duration'},inplace=True)\n",
    "a=n.reset_index()\n",
    "del a['index']\n",
    "a1 = a.sort_values(by=['hits'], ascending=False)\n",
    "a1 = a1.head(100)\n",
    "a1['UPST_RT_avg']=(a1.UPST_RT_duration)/(a1.hits)\n",
    "a1 = a1.set_index()\n",
    "del a1['index']\n",
    "\n"
   ]
  },
  {
   "cell_type": "code",
   "execution_count": null,
   "metadata": {},
   "outputs": [],
   "source": [
    "a1[a1.url == '/api/daywisePrice']"
   ]
  },
  {
   "cell_type": "code",
   "execution_count": null,
   "metadata": {},
   "outputs": [],
   "source": [
    "a1[a1.url == '/api/daywiseInventory']"
   ]
  },
  {
   "cell_type": "code",
   "execution_count": null,
   "metadata": {},
   "outputs": [],
   "source": [
    "sum(a1.hits)"
   ]
  },
  {
   "cell_type": "code",
   "execution_count": null,
   "metadata": {
    "collapsed": true
   },
   "outputs": [],
   "source": []
  },
  {
   "cell_type": "code",
   "execution_count": null,
   "metadata": {
    "collapsed": true
   },
   "outputs": [],
   "source": []
  }
 ],
 "metadata": {
  "kernelspec": {
   "display_name": "Python [default]",
   "language": "python",
   "name": "python3"
  },
  "language_info": {
   "codemirror_mode": {
    "name": "ipython",
    "version": 3
   },
   "file_extension": ".py",
   "mimetype": "text/x-python",
   "name": "python",
   "nbconvert_exporter": "python",
   "pygments_lexer": "ipython3",
   "version": "3.5.3"
  }
 },
 "nbformat": 4,
 "nbformat_minor": 2
}
