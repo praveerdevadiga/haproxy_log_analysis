{
 "cells": [
  {
   "cell_type": "code",
   "execution_count": 3,
   "metadata": {
    "collapsed": true
   },
   "outputs": [],
   "source": [
    "import numpy as np\n",
    "import pandas as pd\n",
    "import sys, os\n",
    "import re \n",
    "import csv\n",
    "import shlex\n",
    "import json\n",
    "import datetime\n",
    "import glob, os\n",
    "\n",
    "pattern_json = re.compile(r'{.*}')\n",
    "pattern_select_words = re.compile(r'[^:,{}]+')\n",
    "pattern_method = re.compile(r'(^[A-Z]+\\b)')\n",
    "pattern_url = re.compile(r'([/bh].*)\\s')\n",
    "pattern_protocol = re.compile(r'(\\s[H].*)')"
   ]
  },
  {
   "cell_type": "code",
   "execution_count": 4,
   "metadata": {},
   "outputs": [
    {
     "name": "stdout",
     "output_type": "stream",
     "text": [
      "Enter the month : 10\n"
     ]
    }
   ],
   "source": [
    "month = input(\"Enter the month : \")"
   ]
  },
  {
   "cell_type": "code",
   "execution_count": 5,
   "metadata": {},
   "outputs": [
    {
     "name": "stdout",
     "output_type": "stream",
     "text": [
      "Enter the date : 26\n"
     ]
    }
   ],
   "source": [
    "day = input(\"Enter the date : \")"
   ]
  },
  {
   "cell_type": "code",
   "execution_count": 6,
   "metadata": {
    "collapsed": true
   },
   "outputs": [],
   "source": [
    "date = '2017-'+str(month)+'-'+str(day)\n",
    "\n",
    "haproxy = ['APP_18.194.19.171', 'PMS_35.158.197.58', 'WWW_35.156.87.211']\n",
    "\n",
    "content = []\n",
    "for proxy in haproxy:\n",
    "    os.chdir('/home/tech/haproxy_log_analysis/'+proxy+'/logs')\n",
    "    for logfiles in glob.glob('haproxy.*'):\n",
    "        with open(logfiles) as file:\n",
    "            for line in file:\n",
    "                for match in re.findall(pattern_json, line):\n",
    "                    string_json = match\n",
    "                string_json = re.sub(pattern_select_words, r'\"\\g<0>\"', string_json)\n",
    "                try:\n",
    "                    json_data = json.loads(string_json)\n",
    "                except ValueError:\n",
    "                    continue\n",
    "                data = []\n",
    "                timestamp = int(json_data.get('timestamp'))\n",
    "                day = datetime.datetime.fromtimestamp(timestamp).strftime('%Y-%m-%d')\n",
    "\n",
    "                if day == date:\n",
    "                    data.append(day)\n",
    "                    data.append(datetime.datetime.fromtimestamp(timestamp).strftime('%H:%M:%S'))\n",
    "\n",
    "                    http_request = str(json_data.get('http_request',None))\n",
    "                    for url in re.findall(pattern_url, http_request):\n",
    "                        data.append(url)\n",
    "                    for method in re.findall(pattern_method, http_request):\n",
    "                        data.append(method)\n",
    "                    for protocol in re.findall(pattern_protocol, http_request):\n",
    "                        data.append(protocol)\n",
    "\n",
    "                    data.append(json_data.get('upstream_addr'))\n",
    "                    data.append(json_data.get('remote_addr'))\n",
    "                    data.append(int(json_data.get('http_status')))\n",
    "                    data.append(int(json_data.get('session_duration')))\n",
    "                    data.append(int(json_data.get('upstream_connect_time')))\n",
    "                    data.append(int(json_data.get('upstream_response_time')))\n",
    "\n",
    "                    content.append(data)\n",
    "\n",
    "    "
   ]
  },
  {
   "cell_type": "code",
   "execution_count": 7,
   "metadata": {
    "collapsed": true
   },
   "outputs": [],
   "source": [
    "columns = ['day', 'time', 'url', 'method', 'protocol', 'upstream_addr',\n",
    "           'remote_addr', 'http_status', 'session_duration',\n",
    "           'upstream_connect_time', 'upstream_response_time']\n",
    "\n",
    "df = pd.DataFrame(content, columns=columns)\n",
    "df['UPST_min']=(df.upstream_response_time)/(1000*60)\n",
    "del df['upstream_response_time']\n",
    "df['upstream_response_time'] = pd.to_timedelta((60*df['UPST_min']), unit='s')\n",
    "del df['UPST_min']"
   ]
  },
  {
   "cell_type": "code",
   "execution_count": 8,
   "metadata": {
    "collapsed": true
   },
   "outputs": [],
   "source": [
    "new = df.groupby(['url'])['upstream_response_time'].agg(['sum','count'])\n",
    "n=new.reset_index()\n",
    "n.rename(columns={'count':'hits','sum':'UPST_RT_duration'},inplace=True)\n",
    "a=n.reset_index()\n",
    "del a['index']\n",
    "a1 = a.sort_values(by=['hits'], ascending=False)\n",
    "#a1 = a1.head(100)\n",
    "a1['UPST_RT_avg']=(a1.UPST_RT_duration)/(a1.hits)\n",
    "a1 = a1.reset_index()\n",
    "del a1['index']"
   ]
  },
  {
   "cell_type": "code",
   "execution_count": 10,
   "metadata": {},
   "outputs": [
    {
     "data": {
      "text/html": [
       "<div>\n",
       "<style>\n",
       "    .dataframe thead tr:only-child th {\n",
       "        text-align: right;\n",
       "    }\n",
       "\n",
       "    .dataframe thead th {\n",
       "        text-align: left;\n",
       "    }\n",
       "\n",
       "    .dataframe tbody tr th {\n",
       "        vertical-align: top;\n",
       "    }\n",
       "</style>\n",
       "<table border=\"1\" class=\"dataframe\">\n",
       "  <thead>\n",
       "    <tr style=\"text-align: right;\">\n",
       "      <th></th>\n",
       "      <th>url</th>\n",
       "      <th>UPST_RT_duration</th>\n",
       "      <th>hits</th>\n",
       "      <th>UPST_RT_avg</th>\n",
       "    </tr>\n",
       "  </thead>\n",
       "  <tbody>\n",
       "    <tr>\n",
       "      <th>1</th>\n",
       "      <td>/api/daywisePrice</td>\n",
       "      <td>43 days 01:51:18.342000</td>\n",
       "      <td>299603</td>\n",
       "      <td>00:00:12.422700</td>\n",
       "    </tr>\n",
       "  </tbody>\n",
       "</table>\n",
       "</div>"
      ],
      "text/plain": [
       "                 url        UPST_RT_duration    hits     UPST_RT_avg\n",
       "1  /api/daywisePrice 43 days 01:51:18.342000  299603 00:00:12.422700"
      ]
     },
     "execution_count": 10,
     "metadata": {},
     "output_type": "execute_result"
    }
   ],
   "source": [
    "a1[a1.url == '/api/daywisePrice']"
   ]
  },
  {
   "cell_type": "code",
   "execution_count": 11,
   "metadata": {},
   "outputs": [
    {
     "data": {
      "text/html": [
       "<div>\n",
       "<style>\n",
       "    .dataframe thead tr:only-child th {\n",
       "        text-align: right;\n",
       "    }\n",
       "\n",
       "    .dataframe thead th {\n",
       "        text-align: left;\n",
       "    }\n",
       "\n",
       "    .dataframe tbody tr th {\n",
       "        vertical-align: top;\n",
       "    }\n",
       "</style>\n",
       "<table border=\"1\" class=\"dataframe\">\n",
       "  <thead>\n",
       "    <tr style=\"text-align: right;\">\n",
       "      <th></th>\n",
       "      <th>url</th>\n",
       "      <th>UPST_RT_duration</th>\n",
       "      <th>hits</th>\n",
       "      <th>UPST_RT_avg</th>\n",
       "    </tr>\n",
       "  </thead>\n",
       "  <tbody>\n",
       "    <tr>\n",
       "      <th>0</th>\n",
       "      <td>/api/daywiseInventory</td>\n",
       "      <td>22:18:11.291000</td>\n",
       "      <td>304488</td>\n",
       "      <td>00:00:00.263692</td>\n",
       "    </tr>\n",
       "  </tbody>\n",
       "</table>\n",
       "</div>"
      ],
      "text/plain": [
       "                     url UPST_RT_duration    hits     UPST_RT_avg\n",
       "0  /api/daywiseInventory  22:18:11.291000  304488 00:00:00.263692"
      ]
     },
     "execution_count": 11,
     "metadata": {},
     "output_type": "execute_result"
    }
   ],
   "source": [
    "a1[a1.url == '/api/daywiseInventory']"
   ]
  },
  {
   "cell_type": "code",
   "execution_count": null,
   "metadata": {
    "collapsed": true
   },
   "outputs": [],
   "source": []
  }
 ],
 "metadata": {
  "kernelspec": {
   "display_name": "Python [conda root]",
   "language": "python",
   "name": "conda-root-py"
  },
  "language_info": {
   "codemirror_mode": {
    "name": "ipython",
    "version": 3
   },
   "file_extension": ".py",
   "mimetype": "text/x-python",
   "name": "python",
   "nbconvert_exporter": "python",
   "pygments_lexer": "ipython3",
   "version": "3.5.3"
  }
 },
 "nbformat": 4,
 "nbformat_minor": 2
}
