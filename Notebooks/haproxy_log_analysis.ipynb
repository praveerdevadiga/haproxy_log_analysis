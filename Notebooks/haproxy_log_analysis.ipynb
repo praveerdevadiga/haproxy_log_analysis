{
 "cells": [
  {
   "cell_type": "code",
   "execution_count": 141,
   "metadata": {
    "collapsed": true
   },
   "outputs": [],
   "source": [
    "import numpy as np\n",
    "import pandas as pd\n",
    "import sys, os\n",
    "import re \n",
    "import csv\n",
    "import shlex\n",
    "import json\n",
    "import datetime\n"
   ]
  },
  {
   "cell_type": "code",
   "execution_count": 142,
   "metadata": {
    "collapsed": true
   },
   "outputs": [],
   "source": [
    "logfile = '/home/tech/haproxy_log_analysis/haproxy.log.'"
   ]
  },
  {
   "cell_type": "code",
   "execution_count": null,
   "metadata": {
    "collapsed": true
   },
   "outputs": [],
   "source": [
    "with open(logfile) as file:\n",
    "    lines = file.read().splitlines()"
   ]
  },
  {
   "cell_type": "code",
   "execution_count": 56,
   "metadata": {
    "collapsed": true
   },
   "outputs": [],
   "source": [
    "pattern_json = re.compile(r'{.*}')\n",
    "pattern_select_words = re.compile(r'[^:,{}]+')\n",
    "\n",
    "pattern_method = re.compile(r'(^[A-Z]+\\b)')\n",
    "pattern_url = re.compile(r'([/bh].*)\\s')\n",
    "pattern_protocol = re.compile(r'(\\s[H].*)')\n",
    "content = []\n",
    "\n",
    "        "
   ]
  },
  {
   "cell_type": "code",
   "execution_count": 57,
   "metadata": {
    "collapsed": true
   },
   "outputs": [],
   "source": [
    "for line in lines:\n",
    "    line = str(line)\n",
    "    for match in re.findall(pattern_json, line):\n",
    "        string_json = match\n",
    "    string_json = re.sub(pattern_select_words, r'\"\\g<0>\"', string_json)\n",
    "    json_data = json.loads(string_json)\n",
    "    \n",
    "    data = []\n",
    "    \n",
    "    timestamp = int(json_data.get('timestamp'))\n",
    "    data.append(datetime.datetime.fromtimestamp(timestamp).strftime('%Y-%m-%d'))\n",
    "    data.append(datetime.datetime.fromtimestamp(timestamp).strftime('%H:%M:%S'))\n",
    "    \n",
    "    http_request = str(json_data.get('http_request',None))\n",
    "    for url in re.findall(pattern_url, http_request):\n",
    "        data.append(url)\n",
    "    for method in re.findall(pattern_method, http_request):\n",
    "        data.append(method)\n",
    "    for protocol in re.findall(pattern_protocol, http_request):\n",
    "        data.append(protocol)\n",
    "    \n",
    "    data.append(json_data.get('upstream_addr'))\n",
    "    data.append(json_data.get('remote_addr'))\n",
    "    data.append(int(json_data.get('http_status')))\n",
    "    data.append(int(json_data.get('session_duration')))\n",
    "    data.append(int(json_data.get('upstream_connect_time')))\n",
    "    data.append(int(json_data.get('upstream_response_time')))\n",
    "    \n",
    "    content.append(data) \n",
    "    "
   ]
  },
  {
   "cell_type": "code",
   "execution_count": 3,
   "metadata": {},
   "outputs": [
    {
     "ename": "NameError",
     "evalue": "name 'pd' is not defined",
     "output_type": "error",
     "traceback": [
      "\u001b[0;31m---------------------------------------------------------------------------\u001b[0m",
      "\u001b[0;31mNameError\u001b[0m                                 Traceback (most recent call last)",
      "\u001b[0;32m<ipython-input-3-bfe305d2f879>\u001b[0m in \u001b[0;36m<module>\u001b[0;34m()\u001b[0m\n\u001b[1;32m      3\u001b[0m            'upstream_connect_time', 'upstream_response_time']\n\u001b[1;32m      4\u001b[0m \u001b[0;34m\u001b[0m\u001b[0m\n\u001b[0;32m----> 5\u001b[0;31m \u001b[0mdf\u001b[0m \u001b[0;34m=\u001b[0m \u001b[0mpd\u001b[0m\u001b[0;34m.\u001b[0m\u001b[0mDataFrame\u001b[0m\u001b[0;34m(\u001b[0m\u001b[0mcontent\u001b[0m\u001b[0;34m,\u001b[0m \u001b[0mcolumns\u001b[0m\u001b[0;34m=\u001b[0m\u001b[0mcolumns\u001b[0m\u001b[0;34m)\u001b[0m\u001b[0;34m\u001b[0m\u001b[0m\n\u001b[0m\u001b[1;32m      6\u001b[0m \u001b[0;31m#df.to_csv('/home/tech/haproxy_log_analysis/haproxy.csv', index = None)\u001b[0m\u001b[0;34m\u001b[0m\u001b[0;34m\u001b[0m\u001b[0m\n",
      "\u001b[0;31mNameError\u001b[0m: name 'pd' is not defined"
     ]
    }
   ],
   "source": [
    "columns = ['day', 'time', 'url', 'method', 'protocol', 'upstream_addr',\n",
    "           'remote_addr', 'http_status', 'session_duration',\n",
    "           'upstream_connect_time', 'upstream_response_time']\n",
    "\n",
    "df = pd.DataFrame(content, columns=columns)\n",
    "#df.to_csv('/home/tech/haproxy_log_analysis/haproxy.csv', index = None)\n"
   ]
  },
  {
   "cell_type": "code",
   "execution_count": 96,
   "metadata": {
    "collapsed": true
   },
   "outputs": [],
   "source": [
    "new = df.groupby(['remote_addr','upstream_addr','method'])['upstream_response_time'].agg(['sum','count'])\n",
    "n=new.reset_index()\n",
    "n1=n.groupby(['remote_addr','upstream_addr','method']).sum()\n",
    "n1.rename(columns={'count':'hits','sum':'UPST_RT_duration'},inplace=True)"
   ]
  },
  {
   "cell_type": "code",
   "execution_count": 97,
   "metadata": {
    "collapsed": true
   },
   "outputs": [],
   "source": [
    "a=n1.reset_index()\n",
    "a['UPST_RT_min']=(a.UPST_RT_duration)/(60)\n",
    "a['UPST_RT_TOTAL'] = pd.to_timedelta((60*a['UPST_RT_min']).astype('int'), unit='s')\n",
    "a1 = a.sort_values(by=['UPST_RT_TOTAL'], ascending=False)\n",
    "a1 = a1.head(100)\n",
    "del a1['UPST_RT_duration']\n",
    "del a1['UPST_RT_min']\n",
    "a1['UPST_RT_avg']=(a1.UPST_RT_TOTAL)/(a1.hits)\n",
    "a1 = a1.reset_index()\n",
    "del a1['index']"
   ]
  },
  {
   "cell_type": "code",
   "execution_count": 2,
   "metadata": {},
   "outputs": [
    {
     "ename": "NameError",
     "evalue": "name 'a1' is not defined",
     "output_type": "error",
     "traceback": [
      "\u001b[0;31m---------------------------------------------------------------------------\u001b[0m",
      "\u001b[0;31mNameError\u001b[0m                                 Traceback (most recent call last)",
      "\u001b[0;32m<ipython-input-2-e0a8b0708ca0>\u001b[0m in \u001b[0;36m<module>\u001b[0;34m()\u001b[0m\n\u001b[1;32m      1\u001b[0m \u001b[0ml\u001b[0m \u001b[0;34m=\u001b[0m \u001b[0;34m[\u001b[0m\u001b[0;34m]\u001b[0m\u001b[0;34m\u001b[0m\u001b[0m\n\u001b[0;32m----> 2\u001b[0;31m \u001b[0ml\u001b[0m \u001b[0;34m=\u001b[0m \u001b[0ma1\u001b[0m\u001b[0;34m.\u001b[0m\u001b[0mremote_addr\u001b[0m\u001b[0;34m\u001b[0m\u001b[0m\n\u001b[0m\u001b[1;32m      3\u001b[0m \u001b[0msd\u001b[0m \u001b[0;34m=\u001b[0m \u001b[0;34m[\u001b[0m\u001b[0;34m]\u001b[0m\u001b[0;34m\u001b[0m\u001b[0m\n\u001b[1;32m      4\u001b[0m \u001b[0mp\u001b[0m \u001b[0;34m=\u001b[0m \u001b[0;34m[\u001b[0m\u001b[0;34m]\u001b[0m\u001b[0;34m\u001b[0m\u001b[0m\n\u001b[1;32m      5\u001b[0m \u001b[0;32mfor\u001b[0m \u001b[0mi\u001b[0m \u001b[0;32min\u001b[0m \u001b[0ml\u001b[0m\u001b[0;34m:\u001b[0m\u001b[0;34m\u001b[0m\u001b[0m\n",
      "\u001b[0;31mNameError\u001b[0m: name 'a1' is not defined"
     ]
    }
   ],
   "source": [
    "l = []\n",
    "l = a1.remote_addr\n",
    "sd = []\n",
    "p = []\n",
    "for i in l:\n",
    "    a = df[df.remote_addr == i]\n",
    "    print(type(a))\n",
    "    x = np.std(a['upstream_response_time'])\n",
    "    sd.append(x)\n",
    "    p1 = np.percentile(a['upstream_response_time'],90)\n",
    "    p.append(p1)\n",
    "sd_array = pd.Series(sd)\n",
    "p_array = pd.Series(p)\n",
    "a1['SD'] = sd_array.values\n",
    "a1['90_percentile'] = p_array.values\n",
    "a1.to_csv('/home/tech/haproxy_log_analysis/haproxy_log_report.csv', index = None)"
   ]
  },
  {
   "cell_type": "code",
   "execution_count": null,
   "metadata": {
    "collapsed": true
   },
   "outputs": [],
   "source": []
  },
  {
   "cell_type": "code",
   "execution_count": 1,
   "metadata": {},
   "outputs": [
    {
     "ename": "NameError",
     "evalue": "name 'a' is not defined",
     "output_type": "error",
     "traceback": [
      "\u001b[0;31m---------------------------------------------------------------------------\u001b[0m",
      "\u001b[0;31mNameError\u001b[0m                                 Traceback (most recent call last)",
      "\u001b[0;32m<ipython-input-1-60b725f10c9c>\u001b[0m in \u001b[0;36m<module>\u001b[0;34m()\u001b[0m\n\u001b[0;32m----> 1\u001b[0;31m \u001b[0ma\u001b[0m\u001b[0;34m\u001b[0m\u001b[0m\n\u001b[0m",
      "\u001b[0;31mNameError\u001b[0m: name 'a' is not defined"
     ]
    }
   ],
   "source": []
  },
  {
   "cell_type": "code",
   "execution_count": null,
   "metadata": {
    "collapsed": true
   },
   "outputs": [],
   "source": []
  },
  {
   "cell_type": "code",
   "execution_count": null,
   "metadata": {
    "collapsed": true
   },
   "outputs": [],
   "source": []
  },
  {
   "cell_type": "code",
   "execution_count": null,
   "metadata": {
    "collapsed": true
   },
   "outputs": [],
   "source": []
  },
  {
   "cell_type": "code",
   "execution_count": null,
   "metadata": {
    "collapsed": true
   },
   "outputs": [],
   "source": []
  }
 ],
 "metadata": {
  "kernelspec": {
   "display_name": "Python [conda root]",
   "language": "python",
   "name": "conda-root-py"
  },
  "language_info": {
   "codemirror_mode": {
    "name": "ipython",
    "version": 3
   },
   "file_extension": ".py",
   "mimetype": "text/x-python",
   "name": "python",
   "nbconvert_exporter": "python",
   "pygments_lexer": "ipython3",
   "version": "3.5.3"
  }
 },
 "nbformat": 4,
 "nbformat_minor": 2
}
